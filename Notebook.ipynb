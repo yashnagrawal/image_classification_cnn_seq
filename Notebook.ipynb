{
  "nbformat": 4,
  "nbformat_minor": 0,
  "metadata": {
    "colab": {
      "provenance": [],
      "authorship_tag": "ABX9TyMhUcAOLNLIRp2vGqOuK3H0",
      "include_colab_link": true
    },
    "kernelspec": {
      "name": "python3",
      "display_name": "Python 3"
    },
    "language_info": {
      "name": "python"
    }
  },
  "cells": [
    {
      "cell_type": "markdown",
      "metadata": {
        "id": "view-in-github",
        "colab_type": "text"
      },
      "source": [
        "<a href=\"https://colab.research.google.com/github/yashnagrawal/image_classification_cnn_seq/blob/main/c4w1a2_tf_Sequential_API.ipynb\" target=\"_parent\"><img src=\"https://colab.research.google.com/assets/colab-badge.svg\" alt=\"Open In Colab\"/></a>"
      ]
    },
    {
      "cell_type": "markdown",
      "source": [
        "# 1) Importing packages"
      ],
      "metadata": {
        "id": "qTYx1G6_ML2L"
      }
    },
    {
      "cell_type": "code",
      "source": [
        "import tensorflow as tf\n",
        "import numpy as np\n",
        "import math\n",
        "import h5py"
      ],
      "metadata": {
        "id": "jeHILnYZEsz_"
      },
      "execution_count": 10,
      "outputs": []
    },
    {
      "cell_type": "code",
      "source": [
        "def load_dataset():\n",
        "    train_dataset = h5py.File('datasets/train_happy.h5', \"r\")\n",
        "    train_set_x_orig = np.array(train_dataset[\"train_set_x\"][:]) # your train set features\n",
        "    train_set_y_orig = np.array(train_dataset[\"train_set_y\"][:]) # your train set labels\n",
        "\n",
        "    test_dataset = h5py.File('datasets/test_happy.h5', \"r\")\n",
        "    test_set_x_orig = np.array(test_dataset[\"test_set_x\"][:]) # your test set features\n",
        "    test_set_y_orig = np.array(test_dataset[\"test_set_y\"][:]) # your test set labels\n",
        "\n",
        "    classes = np.array(test_dataset[\"list_classes\"][:]) # the list of classes\n",
        "\n",
        "    train_set_y_orig = train_set_y_orig.reshape((1, train_set_y_orig.shape[0]))\n",
        "    test_set_y_orig = test_set_y_orig.reshape((1, test_set_y_orig.shape[0]))\n",
        "\n",
        "    return train_set_x_orig, train_set_y_orig, test_set_x_orig, test_set_y_orig, classes"
      ],
      "metadata": {
        "id": "Ob9ylqLzMSEk"
      },
      "execution_count": 11,
      "outputs": []
    },
    {
      "cell_type": "code",
      "source": [
        "X_train_orig, Y_train_orig, X_test_orig, Y_test_orig, classes = load_dataset()"
      ],
      "metadata": {
        "id": "OCnNU1BKFcyd"
      },
      "execution_count": 12,
      "outputs": []
    },
    {
      "cell_type": "code",
      "source": [
        "print(\"X shape: \", X_train_orig.shape)\n",
        "print(\"Y shape: \", Y_train_orig.shape)"
      ],
      "metadata": {
        "colab": {
          "base_uri": "https://localhost:8080/"
        },
        "id": "xorsCNirFwjB",
        "outputId": "7a6004e0-ff9a-4cbf-e77e-66584c62970c"
      },
      "execution_count": 13,
      "outputs": [
        {
          "output_type": "stream",
          "name": "stdout",
          "text": [
            "X shape:  (600, 64, 64, 3)\n",
            "Y shape:  (1, 600)\n"
          ]
        }
      ]
    },
    {
      "cell_type": "markdown",
      "source": [
        "# 3) Preprocessing input"
      ],
      "metadata": {
        "id": "SZcaUrwyNfuq"
      }
    },
    {
      "cell_type": "code",
      "source": [
        "X_train = X_train_orig/255.0\n",
        "Y_train = Y_train_orig.T\n",
        "X_test = X_test_orig/255.0\n",
        "Y_test = Y_test_orig.T"
      ],
      "metadata": {
        "id": "-ytRqC02GQTL"
      },
      "execution_count": 14,
      "outputs": []
    },
    {
      "cell_type": "code",
      "source": [
        "print(\"X train: \", X_train.shape)\n",
        "print(\"Y train: \", Y_train.shape)\n",
        "print(\"X test: \", X_test.shape)\n",
        "print(\"Y test: \", Y_test.shape)"
      ],
      "metadata": {
        "colab": {
          "base_uri": "https://localhost:8080/"
        },
        "id": "pJ3EsVeNGtIy",
        "outputId": "7ff7737d-3699-4cd2-df00-1e686e73c1de"
      },
      "execution_count": 15,
      "outputs": [
        {
          "output_type": "stream",
          "name": "stdout",
          "text": [
            "X train:  (600, 64, 64, 3)\n",
            "Y train:  (600, 1)\n",
            "X test:  (150, 64, 64, 3)\n",
            "Y test:  (150, 1)\n"
          ]
        }
      ]
    },
    {
      "cell_type": "markdown",
      "source": [
        "# 4) Defining the model"
      ],
      "metadata": {
        "id": "6YjShA61Np0Q"
      }
    },
    {
      "cell_type": "code",
      "source": [
        "def model():\n",
        "  \"\"\"\n",
        "  ZEROPAD2D(padding 3) -> CONV2D (32 7x7 filters, stride 1) -> BATCHNORM (axis = 3) -> RELU -> MAXPOOL -> FLATTEN -> DENSE (1 unit, sigmoid activation)\n",
        "  Return:\n",
        "    model -- tensorflow model\n",
        "  \"\"\"\n",
        "  model = tf.keras.Sequential()\n",
        "  model.add(tf.keras.Input(shape = (64, 64, 3)))\n",
        "  model.add(tf.keras.layers.ZeroPadding2D(padding = 3))\n",
        "  model.add(tf.keras.layers.Conv2D(filters = 32, kernel_size = (7, 7), strides = 1))\n",
        "  model.add(tf.keras.layers.BatchNormalization(axis = 3))\n",
        "  model.add(tf.keras.layers.ReLU())\n",
        "  model.add(tf.keras.layers.Flatten())\n",
        "  model.add(tf.keras.layers.Dense(units = 1, activation = 'sigmoid'))\n",
        "\n",
        "  return model"
      ],
      "metadata": {
        "id": "c-cC4oKuGuqv"
      },
      "execution_count": 16,
      "outputs": []
    },
    {
      "cell_type": "code",
      "source": [
        "happy_model = model()\n",
        "\n",
        "happy_model.compile(\n",
        "    optimizer = tf.keras.optimizers.Adam(),\n",
        "    loss = tf.keras.losses.BinaryCrossentropy(),\n",
        "    metrics = tf.keras.metrics.BinaryAccuracy()\n",
        ")"
      ],
      "metadata": {
        "id": "-iw0JLpWNdW9"
      },
      "execution_count": 17,
      "outputs": []
    },
    {
      "cell_type": "code",
      "source": [
        "happy_model.summary()"
      ],
      "metadata": {
        "colab": {
          "base_uri": "https://localhost:8080/"
        },
        "id": "hB2CROLpONWp",
        "outputId": "f0d63fa4-2d80-4e2c-ef3c-f31254476d53"
      },
      "execution_count": 18,
      "outputs": [
        {
          "output_type": "stream",
          "name": "stdout",
          "text": [
            "Model: \"sequential\"\n",
            "_________________________________________________________________\n",
            " Layer (type)                Output Shape              Param #   \n",
            "=================================================================\n",
            " zero_padding2d (ZeroPaddin  (None, 70, 70, 3)         0         \n",
            " g2D)                                                            \n",
            "                                                                 \n",
            " conv2d (Conv2D)             (None, 64, 64, 32)        4736      \n",
            "                                                                 \n",
            " batch_normalization (Batch  (None, 64, 64, 32)        128       \n",
            " Normalization)                                                  \n",
            "                                                                 \n",
            " re_lu (ReLU)                (None, 64, 64, 32)        0         \n",
            "                                                                 \n",
            " flatten (Flatten)           (None, 131072)            0         \n",
            "                                                                 \n",
            " dense (Dense)               (None, 1)                 131073    \n",
            "                                                                 \n",
            "=================================================================\n",
            "Total params: 135937 (531.00 KB)\n",
            "Trainable params: 135873 (530.75 KB)\n",
            "Non-trainable params: 64 (256.00 Byte)\n",
            "_________________________________________________________________\n"
          ]
        }
      ]
    },
    {
      "cell_type": "markdown",
      "source": [
        "# 5) Training the model"
      ],
      "metadata": {
        "id": "ygPVfJN_N6tb"
      }
    },
    {
      "cell_type": "code",
      "source": [
        "happy_model.fit(x = X_train, y = Y_train, batch_size = 16, epochs = 10)"
      ],
      "metadata": {
        "colab": {
          "base_uri": "https://localhost:8080/"
        },
        "id": "QbFbB5XkOir3",
        "outputId": "7902bef3-b281-4d8e-a287-a0e6a8c741d0"
      },
      "execution_count": 19,
      "outputs": [
        {
          "output_type": "stream",
          "name": "stdout",
          "text": [
            "Epoch 1/10\n",
            "38/38 [==============================] - 6s 127ms/step - loss: 2.4498 - binary_accuracy: 0.7217\n",
            "Epoch 2/10\n",
            "38/38 [==============================] - 3s 89ms/step - loss: 0.3673 - binary_accuracy: 0.9167\n",
            "Epoch 3/10\n",
            "38/38 [==============================] - 4s 92ms/step - loss: 0.4797 - binary_accuracy: 0.9200\n",
            "Epoch 4/10\n",
            "38/38 [==============================] - 4s 119ms/step - loss: 0.3646 - binary_accuracy: 0.9167\n",
            "Epoch 5/10\n",
            "38/38 [==============================] - 4s 113ms/step - loss: 0.5541 - binary_accuracy: 0.9200\n",
            "Epoch 6/10\n",
            "38/38 [==============================] - 4s 97ms/step - loss: 0.4982 - binary_accuracy: 0.9300\n",
            "Epoch 7/10\n",
            "38/38 [==============================] - 3s 82ms/step - loss: 0.2033 - binary_accuracy: 0.9667\n",
            "Epoch 8/10\n",
            "38/38 [==============================] - 5s 120ms/step - loss: 0.1597 - binary_accuracy: 0.9683\n",
            "Epoch 9/10\n",
            "38/38 [==============================] - 3s 82ms/step - loss: 0.2855 - binary_accuracy: 0.9483\n",
            "Epoch 10/10\n",
            "38/38 [==============================] - 3s 83ms/step - loss: 0.7774 - binary_accuracy: 0.9167\n"
          ]
        },
        {
          "output_type": "execute_result",
          "data": {
            "text/plain": [
              "<keras.src.callbacks.History at 0x7c09da8d5e40>"
            ]
          },
          "metadata": {},
          "execution_count": 19
        }
      ]
    },
    {
      "cell_type": "markdown",
      "source": [
        "# 6) Evaluating the model"
      ],
      "metadata": {
        "id": "dLdKQoFdOADU"
      }
    },
    {
      "cell_type": "code",
      "source": [
        "happy_model.evaluate(x = X_test, y = Y_test)"
      ],
      "metadata": {
        "colab": {
          "base_uri": "https://localhost:8080/"
        },
        "id": "nqbYrfpMQkmO",
        "outputId": "ad62ad97-660f-4ec6-fa19-041252db4539"
      },
      "execution_count": 20,
      "outputs": [
        {
          "output_type": "stream",
          "name": "stdout",
          "text": [
            "5/5 [==============================] - 1s 78ms/step - loss: 9.9571 - binary_accuracy: 0.4600\n"
          ]
        },
        {
          "output_type": "execute_result",
          "data": {
            "text/plain": [
              "[9.95712947845459, 0.46000000834465027]"
            ]
          },
          "metadata": {},
          "execution_count": 20
        }
      ]
    }
  ]
}
